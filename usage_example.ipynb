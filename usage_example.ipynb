{
 "cells": [
  {
   "cell_type": "code",
   "execution_count": null,
   "metadata": {},
   "outputs": [],
   "source": [
    "import time\n",
    "import pandas as pd\n",
    "import matplotlib.pyplot as plt\n",
    "import matplotlib.ticker as tkr\n",
    "from datetime import datetime, timedelta\n",
    "\n",
    "from cubingpa import (\n",
    "    utils,\n",
    "    data_filter,\n",
    "    db_data_loader)\n",
    "from cubingpa.events import EventId\n",
    "from cubingpa.reference_processor import ReferenceProcessor"
   ]
  },
  {
   "cell_type": "code",
   "execution_count": null,
   "metadata": {},
   "outputs": [],
   "source": [
    "total_start_time = time.time()\n",
    "event = EventId.E_555_BF"
   ]
  },
  {
   "cell_type": "code",
   "execution_count": null,
   "metadata": {},
   "outputs": [],
   "source": [
    "raw_data = db_data_loader.load()\n",
    "filtered_results = data_filter.filter(raw_data, event)"
   ]
  },
  {
   "cell_type": "code",
   "execution_count": null,
   "metadata": {},
   "outputs": [],
   "source": [
    "processor = ReferenceProcessor(filtered_results)"
   ]
  },
  {
   "cell_type": "code",
   "execution_count": null,
   "metadata": {},
   "outputs": [],
   "source": [
    "processed_results = processor.process(True)"
   ]
  },
  {
   "cell_type": "code",
   "execution_count": null,
   "metadata": {},
   "outputs": [],
   "source": [
    "# very long\n",
    "#general_data.final_df.plot(figsize=[16, 4.5])"
   ]
  },
  {
   "cell_type": "code",
   "execution_count": null,
   "metadata": {
    "scrolled": true
   },
   "outputs": [],
   "source": [
    "final_average_df = pd.DataFrame(processed_results.mean(axis=1), columns=['Average time'])"
   ]
  },
  {
   "cell_type": "code",
   "execution_count": null,
   "metadata": {},
   "outputs": [],
   "source": [
    "def format_time(x, pos):\n",
    "    return str(timedelta(seconds=x))\n",
    "\n",
    "time_formatter = tkr.FuncFormatter(format_time)"
   ]
  },
  {
   "cell_type": "code",
   "execution_count": null,
   "metadata": {},
   "outputs": [],
   "source": [
    "def format_timedelta(x, pos):\n",
    "    # x is in nanoseconds\n",
    "    date = datetime(2001, 1, 1) + timedelta(microseconds=x/1000)\n",
    "    d = {'years': (date.year - 2001), 'months': (date.month - 1), 'days': (date.day - 1)}\n",
    "    return \"{years}y {months}m {days}d\".format(**d)\n",
    "\n",
    "timedelta_formatter = tkr.FuncFormatter(format_timedelta)"
   ]
  },
  {
   "cell_type": "code",
   "execution_count": null,
   "metadata": {},
   "outputs": [],
   "source": [
    "final_average_df = utils.remove_not_progressing_solves(final_average_df)\n",
    "# with timedelta, if index is not interpolated axis is messed up when plotting \n",
    "final_average_df = utils.interpolate_dates(final_average_df)\n",
    "final_average_df = utils.convert_date_index_to_timedelta(final_average_df)\n",
    "\n",
    "progressing_average_timedelta_graph = final_average_df.plot(figsize=[16, 4.5],\n",
    "                                                            title=event.value + \" progressing timedelta average\")\n",
    "progressing_average_timedelta_graph.yaxis.set_major_formatter(time_formatter)\n",
    "progressing_average_timedelta_graph.xaxis.set_major_formatter(timedelta_formatter)"
   ]
  },
  {
   "cell_type": "code",
   "execution_count": null,
   "metadata": {},
   "outputs": [],
   "source": [
    "for row in final_average_df.itertuples():\n",
    "    print(row[0], row[1])"
   ]
  },
  {
   "cell_type": "code",
   "execution_count": null,
   "metadata": {
    "scrolled": true
   },
   "outputs": [],
   "source": [
    "print(f'Total time: {time.time() - total_start_time} seconds')"
   ]
  }
 ],
 "metadata": {
  "kernelspec": {
   "display_name": "Python 3",
   "language": "python",
   "name": "python3"
  },
  "language_info": {
   "codemirror_mode": {
    "name": "ipython",
    "version": 3
   },
   "file_extension": ".py",
   "mimetype": "text/x-python",
   "name": "python",
   "nbconvert_exporter": "python",
   "pygments_lexer": "ipython3",
   "version": "3.6.7"
  }
 },
 "nbformat": 4,
 "nbformat_minor": 2
}
