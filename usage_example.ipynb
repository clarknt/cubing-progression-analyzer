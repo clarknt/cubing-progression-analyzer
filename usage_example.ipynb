{
 "cells": [
  {
   "cell_type": "code",
   "execution_count": null,
   "metadata": {},
   "outputs": [],
   "source": [
    "import time\n",
    "import pandas as pd\n",
    "import matplotlib.pyplot as plt\n",
    "import matplotlib.ticker as tkr\n",
    "from datetime import datetime, timedelta\n",
    "\n",
    "import init_data\n",
    "import treatment\n",
    "from events import EventsId\n",
    "from general_data import GeneralData"
   ]
  },
  {
   "cell_type": "code",
   "execution_count": null,
   "metadata": {},
   "outputs": [],
   "source": [
    "total_start_time = time.time()\n",
    "event = EventsId.E_555_BF"
   ]
  },
  {
   "cell_type": "code",
   "execution_count": null,
   "metadata": {},
   "outputs": [],
   "source": [
    "results = init_data.get_filtered_results_from_db(event)"
   ]
  },
  {
   "cell_type": "code",
   "execution_count": null,
   "metadata": {},
   "outputs": [],
   "source": [
    "general_data = GeneralData(results)"
   ]
  },
  {
   "cell_type": "code",
   "execution_count": null,
   "metadata": {},
   "outputs": [],
   "source": [
    "treatment.init_reference(general_data)"
   ]
  },
  {
   "cell_type": "code",
   "execution_count": null,
   "metadata": {},
   "outputs": [],
   "source": [
    "treatment.init_final_df(general_data)"
   ]
  },
  {
   "cell_type": "code",
   "execution_count": null,
   "metadata": {},
   "outputs": [],
   "source": [
    "treatment.launch_main_treatment(general_data, True)"
   ]
  },
  {
   "cell_type": "code",
   "execution_count": null,
   "metadata": {},
   "outputs": [],
   "source": [
    "# very long\n",
    "#general_data.final_df.plot(figsize=[16, 4.5])"
   ]
  },
  {
   "cell_type": "code",
   "execution_count": null,
   "metadata": {
    "scrolled": true
   },
   "outputs": [],
   "source": [
    "final_average_df = pd.DataFrame(general_data.final_df.mean(axis=1), columns=['Average time'])"
   ]
  },
  {
   "cell_type": "code",
   "execution_count": null,
   "metadata": {},
   "outputs": [],
   "source": [
    "def format_time(x, pos):\n",
    "    return str(timedelta(seconds=x))\n",
    "\n",
    "time_formatter = tkr.FuncFormatter(format_time)"
   ]
  },
  {
   "cell_type": "code",
   "execution_count": null,
   "metadata": {},
   "outputs": [],
   "source": [
    "def format_timedelta(x, pos):\n",
    "    # x is in nanoseconds\n",
    "    date = datetime(2001, 1, 1) + timedelta(microseconds=x/1000)\n",
    "    d = {'years': (date.year - 2001), 'months': (date.month - 1), 'days': (date.day - 1)}\n",
    "    return \"{years}y {months}m {days}d\".format(**d)\n",
    "\n",
    "timedelta_formatter = tkr.FuncFormatter(format_timedelta)"
   ]
  },
  {
   "cell_type": "code",
   "execution_count": null,
   "metadata": {},
   "outputs": [],
   "source": [
    "final_average_df = treatment.remove_not_progressing_solves(final_average_df)\n",
    "# with timedelta, if index is not interpolated axis is messed up when plotting \n",
    "final_average_df = treatment.interpolate_dates(final_average_df)\n",
    "final_average_df = treatment.convert_date_index_to_timedelta(final_average_df)\n",
    "\n",
    "progressing_average_timedelta_graph = final_average_df.plot(figsize=[16, 4.5],\n",
    "                                                            title=event.value + \" progressing timedelta average\")\n",
    "progressing_average_timedelta_graph.yaxis.set_major_formatter(time_formatter)\n",
    "progressing_average_timedelta_graph.xaxis.set_major_formatter(timedelta_formatter)"
   ]
  },
  {
   "cell_type": "code",
   "execution_count": null,
   "metadata": {},
   "outputs": [],
   "source": [
    "for row in final_average_df.itertuples():\n",
    "    print(row[0], row[1])"
   ]
  },
  {
   "cell_type": "code",
   "execution_count": null,
   "metadata": {
    "scrolled": true
   },
   "outputs": [],
   "source": [
    "print(f'Total time: {time.time() - total_start_time} seconds')"
   ]
  }
 ],
 "metadata": {
  "kernelspec": {
   "display_name": "Python 3",
   "language": "python",
   "name": "python3"
  },
  "language_info": {
   "codemirror_mode": {
    "name": "ipython",
    "version": 3
   },
   "file_extension": ".py",
   "mimetype": "text/x-python",
   "name": "python",
   "nbconvert_exporter": "python",
   "pygments_lexer": "ipython3",
   "version": "3.6.7"
  }
 },
 "nbformat": 4,
 "nbformat_minor": 2
}
